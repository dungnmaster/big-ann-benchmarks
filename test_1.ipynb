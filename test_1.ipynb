{
 "cells": [
  {
   "cell_type": "code",
   "execution_count": 2,
   "metadata": {},
   "outputs": [],
   "source": [
    "import pdb\n",
    "import pickle\n",
    "import numpy as np\n",
    "import os\n",
    "from benchmark.datasets import DATASETS\n",
    "from benchmark.dataset_io import download_accelerated"
   ]
  },
  {
   "cell_type": "code",
   "execution_count": 3,
   "metadata": {},
   "outputs": [],
   "source": [
    "ds = DATASETS['yfcc-10M']()"
   ]
  },
  {
   "cell_type": "code",
   "execution_count": 4,
   "metadata": {},
   "outputs": [
    {
     "ename": "KeyboardInterrupt",
     "evalue": "",
     "output_type": "error",
     "traceback": [
      "\u001b[0;31m---------------------------------------------------------------------------\u001b[0m",
      "\u001b[0;31mKeyboardInterrupt\u001b[0m                         Traceback (most recent call last)",
      "Cell \u001b[0;32mIn[4], line 13\u001b[0m\n\u001b[1;32m      1\u001b[0m \u001b[38;5;66;03m# def max_column_length(dataset):\u001b[39;00m\n\u001b[1;32m      2\u001b[0m \u001b[38;5;66;03m#     max_length = 0\u001b[39;00m\n\u001b[1;32m      3\u001b[0m \u001b[38;5;66;03m#     for row in dataset:\u001b[39;00m\n\u001b[0;32m   (...)\u001b[0m\n\u001b[1;32m      8\u001b[0m \u001b[38;5;66;03m# max_len = max_column_length(ds.get_dataset_metadata())\u001b[39;00m\n\u001b[1;32m      9\u001b[0m \u001b[38;5;66;03m# print(\"Maximum length of columns across all rows:\", max_len)\u001b[39;00m\n\u001b[0;32m---> 13\u001b[0m shapes \u001b[38;5;241m=\u001b[39m np\u001b[38;5;241m.\u001b[39marray([\u001b[38;5;28mlen\u001b[39m(np\u001b[38;5;241m.\u001b[39mnonzero(row)[\u001b[38;5;241m1\u001b[39m]) \u001b[38;5;28;01mfor\u001b[39;00m row \u001b[38;5;129;01min\u001b[39;00m ds\u001b[38;5;241m.\u001b[39mget_dataset_metadata()])\n\u001b[1;32m     15\u001b[0m \u001b[38;5;66;03m# Find the maximum number of columns across all rows\u001b[39;00m\n\u001b[1;32m     16\u001b[0m \u001b[38;5;66;03m# max_columns = shapes[:, 1].max()\u001b[39;00m\n\u001b[1;32m     18\u001b[0m \u001b[38;5;28mprint\u001b[39m(\u001b[38;5;124m\"\u001b[39m\u001b[38;5;124mMaximum number of columns across all rows:\u001b[39m\u001b[38;5;124m\"\u001b[39m, \u001b[38;5;28mmax\u001b[39m(shapes))\n",
      "Cell \u001b[0;32mIn[4], line 13\u001b[0m, in \u001b[0;36m<listcomp>\u001b[0;34m(.0)\u001b[0m\n\u001b[1;32m      1\u001b[0m \u001b[38;5;66;03m# def max_column_length(dataset):\u001b[39;00m\n\u001b[1;32m      2\u001b[0m \u001b[38;5;66;03m#     max_length = 0\u001b[39;00m\n\u001b[1;32m      3\u001b[0m \u001b[38;5;66;03m#     for row in dataset:\u001b[39;00m\n\u001b[0;32m   (...)\u001b[0m\n\u001b[1;32m      8\u001b[0m \u001b[38;5;66;03m# max_len = max_column_length(ds.get_dataset_metadata())\u001b[39;00m\n\u001b[1;32m      9\u001b[0m \u001b[38;5;66;03m# print(\"Maximum length of columns across all rows:\", max_len)\u001b[39;00m\n\u001b[0;32m---> 13\u001b[0m shapes \u001b[38;5;241m=\u001b[39m np\u001b[38;5;241m.\u001b[39marray([\u001b[38;5;28mlen\u001b[39m(np\u001b[38;5;241m.\u001b[39mnonzero(row)[\u001b[38;5;241m1\u001b[39m]) \u001b[38;5;28;01mfor\u001b[39;00m row \u001b[38;5;129;01min\u001b[39;00m ds\u001b[38;5;241m.\u001b[39mget_dataset_metadata()])\n\u001b[1;32m     15\u001b[0m \u001b[38;5;66;03m# Find the maximum number of columns across all rows\u001b[39;00m\n\u001b[1;32m     16\u001b[0m \u001b[38;5;66;03m# max_columns = shapes[:, 1].max()\u001b[39;00m\n\u001b[1;32m     18\u001b[0m \u001b[38;5;28mprint\u001b[39m(\u001b[38;5;124m\"\u001b[39m\u001b[38;5;124mMaximum number of columns across all rows:\u001b[39m\u001b[38;5;124m\"\u001b[39m, \u001b[38;5;28mmax\u001b[39m(shapes))\n",
      "File \u001b[0;32m~/miniconda3/envs/bigann/lib/python3.10/site-packages/scipy/sparse/_csr.py:244\u001b[0m, in \u001b[0;36mcsr_matrix.__iter__\u001b[0;34m(self)\u001b[0m\n\u001b[1;32m    242\u001b[0m indices \u001b[38;5;241m=\u001b[39m \u001b[38;5;28mself\u001b[39m\u001b[38;5;241m.\u001b[39mindices[i0:i1]\n\u001b[1;32m    243\u001b[0m data \u001b[38;5;241m=\u001b[39m \u001b[38;5;28mself\u001b[39m\u001b[38;5;241m.\u001b[39mdata[i0:i1]\n\u001b[0;32m--> 244\u001b[0m \u001b[38;5;28;01myield\u001b[39;00m \u001b[38;5;28;43mself\u001b[39;49m\u001b[38;5;241;43m.\u001b[39;49m\u001b[38;5;18;43m__class__\u001b[39;49m\u001b[43m(\u001b[49m\n\u001b[1;32m    245\u001b[0m \u001b[43m    \u001b[49m\u001b[43m(\u001b[49m\u001b[43mdata\u001b[49m\u001b[43m,\u001b[49m\u001b[43m \u001b[49m\u001b[43mindices\u001b[49m\u001b[43m,\u001b[49m\u001b[43m \u001b[49m\u001b[43mindptr\u001b[49m\u001b[43m)\u001b[49m\u001b[43m,\u001b[49m\u001b[43m \u001b[49m\u001b[43mshape\u001b[49m\u001b[38;5;241;43m=\u001b[39;49m\u001b[43mshape\u001b[49m\u001b[43m,\u001b[49m\u001b[43m \u001b[49m\u001b[43mcopy\u001b[49m\u001b[38;5;241;43m=\u001b[39;49m\u001b[38;5;28;43;01mTrue\u001b[39;49;00m\n\u001b[1;32m    246\u001b[0m \u001b[43m\u001b[49m\u001b[43m)\u001b[49m\n\u001b[1;32m    247\u001b[0m i0 \u001b[38;5;241m=\u001b[39m i1\n",
      "File \u001b[0;32m~/miniconda3/envs/bigann/lib/python3.10/site-packages/scipy/sparse/_compressed.py:106\u001b[0m, in \u001b[0;36m_cs_matrix.__init__\u001b[0;34m(self, arg1, shape, dtype, copy)\u001b[0m\n\u001b[1;32m    103\u001b[0m \u001b[38;5;28;01mif\u001b[39;00m dtype \u001b[38;5;129;01mis\u001b[39;00m \u001b[38;5;129;01mnot\u001b[39;00m \u001b[38;5;28;01mNone\u001b[39;00m:\n\u001b[1;32m    104\u001b[0m     \u001b[38;5;28mself\u001b[39m\u001b[38;5;241m.\u001b[39mdata \u001b[38;5;241m=\u001b[39m \u001b[38;5;28mself\u001b[39m\u001b[38;5;241m.\u001b[39mdata\u001b[38;5;241m.\u001b[39mastype(dtype, copy\u001b[38;5;241m=\u001b[39m\u001b[38;5;28;01mFalse\u001b[39;00m)\n\u001b[0;32m--> 106\u001b[0m \u001b[38;5;28;43mself\u001b[39;49m\u001b[38;5;241;43m.\u001b[39;49m\u001b[43mcheck_format\u001b[49m\u001b[43m(\u001b[49m\u001b[43mfull_check\u001b[49m\u001b[38;5;241;43m=\u001b[39;49m\u001b[38;5;28;43;01mFalse\u001b[39;49;00m\u001b[43m)\u001b[49m\n",
      "File \u001b[0;32m~/miniconda3/envs/bigann/lib/python3.10/site-packages/scipy/sparse/_compressed.py:181\u001b[0m, in \u001b[0;36m_cs_matrix.check_format\u001b[0;34m(self, full_check)\u001b[0m\n\u001b[1;32m    177\u001b[0m \u001b[38;5;28;01mif\u001b[39;00m (\u001b[38;5;28mself\u001b[39m\u001b[38;5;241m.\u001b[39mindptr[\u001b[38;5;241m-\u001b[39m\u001b[38;5;241m1\u001b[39m] \u001b[38;5;241m>\u001b[39m \u001b[38;5;28mlen\u001b[39m(\u001b[38;5;28mself\u001b[39m\u001b[38;5;241m.\u001b[39mindices)):\n\u001b[1;32m    178\u001b[0m     \u001b[38;5;28;01mraise\u001b[39;00m \u001b[38;5;167;01mValueError\u001b[39;00m(\u001b[38;5;124m\"\u001b[39m\u001b[38;5;124mLast value of index pointer should be less than \u001b[39m\u001b[38;5;124m\"\u001b[39m\n\u001b[1;32m    179\u001b[0m                      \u001b[38;5;124m\"\u001b[39m\u001b[38;5;124mthe size of index and data arrays\u001b[39m\u001b[38;5;124m\"\u001b[39m)\n\u001b[0;32m--> 181\u001b[0m \u001b[38;5;28;43mself\u001b[39;49m\u001b[38;5;241;43m.\u001b[39;49m\u001b[43mprune\u001b[49m\u001b[43m(\u001b[49m\u001b[43m)\u001b[49m\n\u001b[1;32m    183\u001b[0m \u001b[38;5;28;01mif\u001b[39;00m full_check:\n\u001b[1;32m    184\u001b[0m     \u001b[38;5;66;03m# check format validity (more expensive)\u001b[39;00m\n\u001b[1;32m    185\u001b[0m     \u001b[38;5;28;01mif\u001b[39;00m \u001b[38;5;28mself\u001b[39m\u001b[38;5;241m.\u001b[39mnnz \u001b[38;5;241m>\u001b[39m \u001b[38;5;241m0\u001b[39m:\n",
      "File \u001b[0;32m~/miniconda3/envs/bigann/lib/python3.10/site-packages/scipy/sparse/_compressed.py:1180\u001b[0m, in \u001b[0;36m_cs_matrix.prune\u001b[0;34m(self)\u001b[0m\n\u001b[1;32m   1177\u001b[0m \u001b[38;5;28;01mif\u001b[39;00m \u001b[38;5;28mlen\u001b[39m(\u001b[38;5;28mself\u001b[39m\u001b[38;5;241m.\u001b[39mdata) \u001b[38;5;241m<\u001b[39m \u001b[38;5;28mself\u001b[39m\u001b[38;5;241m.\u001b[39mnnz:\n\u001b[1;32m   1178\u001b[0m     \u001b[38;5;28;01mraise\u001b[39;00m \u001b[38;5;167;01mValueError\u001b[39;00m(\u001b[38;5;124m'\u001b[39m\u001b[38;5;124mdata array has fewer than nnz elements\u001b[39m\u001b[38;5;124m'\u001b[39m)\n\u001b[0;32m-> 1180\u001b[0m \u001b[38;5;28mself\u001b[39m\u001b[38;5;241m.\u001b[39mindices \u001b[38;5;241m=\u001b[39m \u001b[43m_prune_array\u001b[49m\u001b[43m(\u001b[49m\u001b[38;5;28;43mself\u001b[39;49m\u001b[38;5;241;43m.\u001b[39;49m\u001b[43mindices\u001b[49m\u001b[43m[\u001b[49m\u001b[43m:\u001b[49m\u001b[38;5;28;43mself\u001b[39;49m\u001b[38;5;241;43m.\u001b[39;49m\u001b[43mnnz\u001b[49m\u001b[43m]\u001b[49m\u001b[43m)\u001b[49m\n\u001b[1;32m   1181\u001b[0m \u001b[38;5;28mself\u001b[39m\u001b[38;5;241m.\u001b[39mdata \u001b[38;5;241m=\u001b[39m _prune_array(\u001b[38;5;28mself\u001b[39m\u001b[38;5;241m.\u001b[39mdata[:\u001b[38;5;28mself\u001b[39m\u001b[38;5;241m.\u001b[39mnnz])\n",
      "File \u001b[0;32m~/miniconda3/envs/bigann/lib/python3.10/site-packages/scipy/_lib/_util.py:148\u001b[0m, in \u001b[0;36m_prune_array\u001b[0;34m(array)\u001b[0m\n\u001b[1;32m    143\u001b[0m \u001b[38;5;28;01mdef\u001b[39;00m \u001b[38;5;21m_prune_array\u001b[39m(array):\n\u001b[1;32m    144\u001b[0m \u001b[38;5;250m    \u001b[39m\u001b[38;5;124;03m\"\"\"Return an array equivalent to the input array. If the input\u001b[39;00m\n\u001b[1;32m    145\u001b[0m \u001b[38;5;124;03m    array is a view of a much larger array, copy its contents to a\u001b[39;00m\n\u001b[1;32m    146\u001b[0m \u001b[38;5;124;03m    newly allocated array. Otherwise, return the input unchanged.\u001b[39;00m\n\u001b[1;32m    147\u001b[0m \u001b[38;5;124;03m    \"\"\"\u001b[39;00m\n\u001b[0;32m--> 148\u001b[0m     \u001b[38;5;28;01mif\u001b[39;00m array\u001b[38;5;241m.\u001b[39mbase \u001b[38;5;129;01mis\u001b[39;00m \u001b[38;5;129;01mnot\u001b[39;00m \u001b[38;5;28;01mNone\u001b[39;00m \u001b[38;5;129;01mand\u001b[39;00m array\u001b[38;5;241m.\u001b[39msize \u001b[38;5;241m<\u001b[39m array\u001b[38;5;241m.\u001b[39mbase\u001b[38;5;241m.\u001b[39msize \u001b[38;5;241m/\u001b[39m\u001b[38;5;241m/\u001b[39m \u001b[38;5;241m2\u001b[39m:\n\u001b[1;32m    149\u001b[0m         \u001b[38;5;28;01mreturn\u001b[39;00m array\u001b[38;5;241m.\u001b[39mcopy()\n\u001b[1;32m    150\u001b[0m     \u001b[38;5;28;01mreturn\u001b[39;00m array\n",
      "\u001b[0;31mKeyboardInterrupt\u001b[0m: "
     ]
    }
   ],
   "source": [
    "# def max_column_length(dataset):\n",
    "#     max_length = 0\n",
    "#     for row in dataset:\n",
    "#         max_length = max(max_length, row.shape[1])\n",
    "#     return max_length\n",
    "\n",
    "# # Get the maximum length of columns\n",
    "# max_len = max_column_length(ds.get_dataset_metadata())\n",
    "# print(\"Maximum length of columns across all rows:\", max_len)\n",
    "\n",
    "\n",
    "\n",
    "shapes = np.array([len(np.nonzero(row)[1]) for row in ds.get_dataset_metadata()])\n",
    "\n",
    "# Find the maximum number of columns across all rows\n",
    "# max_columns = shapes[:, 1].max()\n",
    "\n",
    "print(\"Maximum number of columns across all rows:\", max(shapes))"
   ]
  },
  {
   "cell_type": "code",
   "execution_count": 11,
   "metadata": {},
   "outputs": [
    {
     "name": "stdout",
     "output_type": "stream",
     "text": [
      "(10000000, 192)\n",
      "(10000000, 200386)\n",
      "[      0       0       0 ... 9999999 9999999 9999999]\n",
      "[    6    15    24 ...   345 48730  2841]\n",
      "(9, 200386)\n",
      "<class 'scipy.sparse._csr.csr_matrix'>\n",
      "## None   (0, 6)\t1.0\n",
      "  (0, 15)\t1.0\n",
      "  (0, 24)\t1.0\n",
      "  (0, 89)\t1.0\n",
      "  (0, 337)\t1.0\n",
      "  (0, 443)\t1.0\n",
      "  (0, 442)\t1.0\n",
      "  (0, 441)\t1.0\n",
      "  (0, 440)\t1.0\n",
      "  (0, 439)\t1.0\n",
      "  (0, 438)\t1.0\n",
      "  (0, 437)\t1.0\n",
      "  (0, 436)\t1.0\n",
      "## (13,) 13\n",
      "6\n",
      "15\n",
      "24\n",
      "89\n",
      "337\n",
      "443\n",
      "442\n",
      "441\n",
      "440\n",
      "439\n",
      "438\n",
      "437\n",
      "436\n",
      "(array([0, 0, 0, 0, 0, 0, 0, 0, 0, 0, 0, 0, 0], dtype=int32), array([  6,  15,  24,  89, 337, 443, 442, 441, 440, 439, 438, 437, 436],\n",
      "      dtype=int32))\n",
      "(array([0, 0, 0, 0, 0], dtype=int32), array([  7,  17,  23, 582, 581], dtype=int32))\n"
     ]
    }
   ],
   "source": [
    "print(ds.get_dataset().shape)\n",
    "print(ds.get_dataset_metadata().shape)\n",
    "\n",
    "print(ds.get_dataset_metadata().nonzero()[0])\n",
    "print(ds.get_dataset_metadata().nonzero()[1])\n",
    "\n",
    "print(ds.get_dataset_metadata()[1:10].shape)\n",
    "\n",
    "val = ds.get_dataset_metadata()[0]\n",
    "print(\"##\",print(type(val)),val)\n",
    "print(\"##\", (np.nonzero(val)[1]).shape, len(np.nonzero(val)[1]))\n",
    "for p in np.nonzero(val)[1]:\n",
    "    print(p)\n",
    "print(np.nonzero(val))\n",
    "print(np.nonzero(ds.get_dataset_metadata()[1]))"
   ]
  },
  {
   "cell_type": "code",
   "execution_count": null,
   "metadata": {},
   "outputs": [],
   "source": []
  },
  {
   "cell_type": "code",
   "execution_count": 4,
   "metadata": {},
   "outputs": [
    {
     "ename": "KeyboardInterrupt",
     "evalue": "",
     "output_type": "error",
     "traceback": [
      "\u001b[0;31m---------------------------------------------------------------------------\u001b[0m",
      "\u001b[0;31mKeyboardInterrupt\u001b[0m                         Traceback (most recent call last)",
      "Cell \u001b[0;32mIn[4], line 13\u001b[0m\n\u001b[1;32m     10\u001b[0m filter_dict \u001b[38;5;241m=\u001b[39m defaultdict(\u001b[38;5;28mlist\u001b[39m)\n\u001b[1;32m     12\u001b[0m \u001b[38;5;28;01mfor\u001b[39;00m row, col \u001b[38;5;129;01min\u001b[39;00m \u001b[38;5;28mzip\u001b[39m(rows, cols):\n\u001b[0;32m---> 13\u001b[0m     \u001b[43mfilter_dict\u001b[49m\u001b[43m[\u001b[49m\u001b[43mrow\u001b[49m\u001b[43m]\u001b[49m\u001b[38;5;241;43m.\u001b[39;49m\u001b[43mappend\u001b[49m\u001b[43m(\u001b[49m\u001b[43mcol\u001b[49m\u001b[43m)\u001b[49m\n\u001b[1;32m     15\u001b[0m \u001b[38;5;28mprint\u001b[39m(rows)\n\u001b[1;32m     16\u001b[0m \u001b[38;5;28mprint\u001b[39m(rows\u001b[38;5;241m.\u001b[39mshape)\n",
      "\u001b[0;31mKeyboardInterrupt\u001b[0m: "
     ]
    }
   ],
   "source": [
    "from collections import defaultdict\n",
    "# import wrapper as wp\n",
    "import time\n",
    "\n",
    "start = time.time()\n",
    "# there's almost certainly a way to do this in less than 0.1s, which costs us ~200 QPS\n",
    "filter = ds.get_dataset_metadata()\n",
    "\n",
    "rows, cols = filter.nonzero()\n",
    "filter_dict = defaultdict(list)\n",
    "\n",
    "for row, col in zip(rows, cols):\n",
    "    filter_dict[row].append(col)\n",
    "    \n",
    "print(rows)\n",
    "print(rows.shape)\n",
    "\n",
    "print(cols)\n",
    "print(cols.shape)\n",
    "\n",
    "# # filters = [wp.QueryFilter(*filters[i]) for i in filters.keys()]\n",
    "# filters = [None] * len(filter_dict.keys())\n",
    "# for i in filter_dict.keys():\n",
    "#     filters[i] = wp.QueryFilter(*filter_dict[i])\n",
    "\n",
    "# print(f\"Filter construction took {time.time() - start} seconds\")"
   ]
  },
  {
   "cell_type": "code",
   "execution_count": 15,
   "metadata": {},
   "outputs": [
    {
     "name": "stdout",
     "output_type": "stream",
     "text": [
      "u\n",
      "[0 0 0 0 0 0 0 0 0 0 0 0 0 1 1 1 1 1 2 2 2 2 2 3 3 3 3 3 3 3 3 4 4 4]\n",
      "[4 4 4]\n",
      "row [0 0 0 0 0 0 0 0 0 0 0 0 0]\n",
      "## 6 15\n",
      "Row 0: Non-zero column indices: [  6  15  24  89 337 443 442 441 440 439 438 437 436]\n",
      "row [1 1 1 1 1]\n",
      "## 7 17\n",
      "Row 1: Non-zero column indices: [  7  17  23 582 581]\n",
      "row [2 2 2 2 2]\n",
      "## 7 17\n",
      "Row 2: Non-zero column indices: [  7  17  23 582 581]\n",
      "row [3 3 3 3 3 3 3 3]\n",
      "## 6 19\n",
      "Row 3: Non-zero column indices: [  6  19  29 595 594 593 592 591]\n",
      "row [4 4 4]\n",
      "## 7 17\n",
      "Row 4: Non-zero column indices: [ 7 17 24]\n"
     ]
    }
   ],
   "source": [
    "print(ds.get_dataset().dtype.kind)\n",
    "limit = 5\n",
    "non_zero_column_indices = np.nonzero(ds.get_dataset_metadata()[0:limit])\n",
    "print(non_zero_column_indices[0])\n",
    "print(non_zero_column_indices[0][non_zero_column_indices[0]==4])\n",
    "\n",
    "# Print the non-zero column indices for the first few rows for demonstration\n",
    "for i in range(limit):\n",
    "    row_indices = non_zero_column_indices[0][non_zero_column_indices[0] == i]\n",
    "    col_indices = non_zero_column_indices[1][non_zero_column_indices[0] == i]\n",
    "    print('row', row_indices)\n",
    "    print('##', col_indices[0],col_indices[1])\n",
    "    print(f\"Row {i}: Non-zero column indices: {col_indices}\")"
   ]
  },
  {
   "cell_type": "code",
   "execution_count": 34,
   "metadata": {},
   "outputs": [
    {
     "name": "stdout",
     "output_type": "stream",
     "text": [
      "Filter construction took 0.5457053184509277 seconds\n",
      "[  6  15  24  89 337 443 442 441 440 439 438 437 436]\n"
     ]
    }
   ],
   "source": [
    "import numpy as np\n",
    "\n",
    "# Sample data\n",
    "a = np.array([0, 0, 0, 0, 0, 0, 0, 0, 0, 0, 0, 0, 0, 1, 1, 1, 1, 1, 2, 2, 2, 2, 2, 3, 3, 3, 3, 3, 3, 3, 3, 4, 4, 4])\n",
    "n = 5\n",
    "ret = []\n",
    "    \n",
    "    \n",
    "def get_result(data, limit=10):\n",
    "    non_zero_column_indices = np.nonzero(data[0:limit])\n",
    "    ret = []\n",
    "    n = data.shape[0]\n",
    "    for idx in range(n):\n",
    "        ret.append(non_zero_column_indices[1][non_zero_column_indices[0] == idx])\n",
    "    return ret\n",
    "\n",
    "start = time.time()\n",
    "val = get_result(ds.get_dataset_metadata(),1000000)\n",
    "print(f\"Filter construction took {time.time() - start} seconds\")\n",
    "# print(val.shape)\n",
    "print(val[0])"
   ]
  },
  {
   "cell_type": "code",
   "execution_count": 1,
   "metadata": {},
   "outputs": [
    {
     "ename": "NameError",
     "evalue": "name 'ds' is not defined",
     "output_type": "error",
     "traceback": [
      "\u001b[0;31m---------------------------------------------------------------------------\u001b[0m",
      "\u001b[0;31mNameError\u001b[0m                                 Traceback (most recent call last)",
      "Cell \u001b[0;32mIn[1], line 1\u001b[0m\n\u001b[0;32m----> 1\u001b[0m \u001b[38;5;28mprint\u001b[39m(\u001b[43mds\u001b[49m\u001b[38;5;241m.\u001b[39mget_queries()\u001b[38;5;241m.\u001b[39mshape)\n\u001b[1;32m      2\u001b[0m \u001b[38;5;28mprint\u001b[39m(ds\u001b[38;5;241m.\u001b[39mget_queries_metadata()\u001b[38;5;241m.\u001b[39mshape)\n\u001b[1;32m      4\u001b[0m queries \u001b[38;5;241m=\u001b[39m ds\u001b[38;5;241m.\u001b[39mget_queries()\n",
      "\u001b[0;31mNameError\u001b[0m: name 'ds' is not defined"
     ]
    }
   ],
   "source": [
    "print(ds.get_queries().shape)\n",
    "print(ds.get_queries_metadata().shape)\n",
    "\n",
    "queries = ds.get_queries()\n",
    "q_metadata = ds.get_queries_metadata()\n",
    "print(np.nonzero(q_metadata[0]))\n",
    "print(np.nonzero(q_metadata[10]))\n",
    "print(q_metadata[10])\n",
    "\n",
    "\n",
    "\n",
    "non_zero_column_indices = np.nonzero(ds.get_queries_metadata())\n",
    "\n",
    "# Print the non-zero column indices for the first few rows for demonstration\n",
    "for i in range(100):\n",
    "    row_indices = non_zero_column_indices[0][non_zero_column_indices[0] == i]\n",
    "    col_indices = non_zero_column_indices[1][non_zero_column_indices[0] == i]\n",
    "    print(f\"Row {i}: Non-zero column indices: {col_indices}\")"
   ]
  },
  {
   "cell_type": "code",
   "execution_count": 33,
   "metadata": {},
   "outputs": [
    {
     "ename": "MemoryError",
     "evalue": "Unable to allocate 7.98 TiB for an array with shape (8776663, 1000000) and data type bool",
     "output_type": "error",
     "traceback": [
      "\u001b[0;31m---------------------------------------------------------------------------\u001b[0m",
      "\u001b[0;31mMemoryError\u001b[0m                               Traceback (most recent call last)",
      "Cell \u001b[0;32mIn[33], line 23\u001b[0m\n\u001b[1;32m     21\u001b[0m \u001b[38;5;66;03m# Example usage\u001b[39;00m\n\u001b[1;32m     22\u001b[0m start \u001b[38;5;241m=\u001b[39m time\u001b[38;5;241m.\u001b[39mtime()\n\u001b[0;32m---> 23\u001b[0m result \u001b[38;5;241m=\u001b[39m \u001b[43mget_result\u001b[49m\u001b[43m(\u001b[49m\u001b[43mds\u001b[49m\u001b[38;5;241;43m.\u001b[39;49m\u001b[43mget_dataset_metadata\u001b[49m\u001b[43m(\u001b[49m\u001b[43m)\u001b[49m\u001b[43m[\u001b[49m\u001b[38;5;241;43m0\u001b[39;49m\u001b[43m:\u001b[49m\u001b[38;5;241;43m1000000\u001b[39;49m\u001b[43m]\u001b[49m\u001b[43m \u001b[49m\u001b[43m,\u001b[49m\u001b[43m \u001b[49m\u001b[43mlimit\u001b[49m\u001b[38;5;241;43m=\u001b[39;49m\u001b[38;5;241;43m1000000\u001b[39;49m\u001b[43m)\u001b[49m\n\u001b[1;32m     24\u001b[0m \u001b[38;5;28mprint\u001b[39m(\u001b[38;5;124mf\u001b[39m\u001b[38;5;124m\"\u001b[39m\u001b[38;5;124mFilter construction took \u001b[39m\u001b[38;5;132;01m{\u001b[39;00mtime\u001b[38;5;241m.\u001b[39mtime()\u001b[38;5;250m \u001b[39m\u001b[38;5;241m-\u001b[39m\u001b[38;5;250m \u001b[39mstart\u001b[38;5;132;01m}\u001b[39;00m\u001b[38;5;124m seconds\u001b[39m\u001b[38;5;124m\"\u001b[39m)\n\u001b[1;32m     25\u001b[0m \u001b[38;5;28mprint\u001b[39m(result[\u001b[38;5;241m0\u001b[39m])\n",
      "Cell \u001b[0;32mIn[33], line 11\u001b[0m, in \u001b[0;36mget_result\u001b[0;34m(data, limit)\u001b[0m\n\u001b[1;32m      8\u001b[0m row_indices \u001b[38;5;241m=\u001b[39m np\u001b[38;5;241m.\u001b[39marange(data\u001b[38;5;241m.\u001b[39mshape[\u001b[38;5;241m0\u001b[39m])\n\u001b[1;32m     10\u001b[0m \u001b[38;5;66;03m# Use broadcasting to compare row indices with non-zero row indices\u001b[39;00m\n\u001b[0;32m---> 11\u001b[0m matches \u001b[38;5;241m=\u001b[39m \u001b[43mnon_zero_column_indices\u001b[49m\u001b[43m[\u001b[49m\u001b[38;5;241;43m0\u001b[39;49m\u001b[43m]\u001b[49m\u001b[43m[\u001b[49m\u001b[43m:\u001b[49m\u001b[43m,\u001b[49m\u001b[43m \u001b[49m\u001b[43mnp\u001b[49m\u001b[38;5;241;43m.\u001b[39;49m\u001b[43mnewaxis\u001b[49m\u001b[43m]\u001b[49m\u001b[43m \u001b[49m\u001b[38;5;241;43m==\u001b[39;49m\u001b[43m \u001b[49m\u001b[43mrow_indices\u001b[49m\n\u001b[1;32m     13\u001b[0m \u001b[38;5;66;03m# Transpose the boolean mask to match the shape of non_zero_column_indices[1]\u001b[39;00m\n\u001b[1;32m     14\u001b[0m matches \u001b[38;5;241m=\u001b[39m matches\u001b[38;5;241m.\u001b[39mT\n",
      "\u001b[0;31mMemoryError\u001b[0m: Unable to allocate 7.98 TiB for an array with shape (8776663, 1000000) and data type bool"
     ]
    }
   ],
   "source": [
    "import numpy as np\n",
    "\n",
    "def get_result(data, limit=10):\n",
    "    # Find non-zero column indices for the first 'limit' rows\n",
    "    non_zero_column_indices = np.nonzero(data[:limit])\n",
    "    \n",
    "    # Create an array of row indices\n",
    "    row_indices = np.arange(data.shape[0])\n",
    "    \n",
    "    # Use broadcasting to compare row indices with non-zero row indices\n",
    "    matches = non_zero_column_indices[0][:, np.newaxis] == row_indices\n",
    "    \n",
    "    # Transpose the boolean mask to match the shape of non_zero_column_indices[1]\n",
    "    matches = matches.T\n",
    "    \n",
    "    # Use boolean masking to extract matching column indices\n",
    "    result = [non_zero_column_indices[1][match] for match in matches]\n",
    "    \n",
    "    return result\n",
    "\n",
    "# Example usage\n",
    "start = time.time()\n",
    "result = get_result(ds.get_dataset_metadata()[0:1000000] , limit=1000000)\n",
    "print(f\"Filter construction took {time.time() - start} seconds\")\n",
    "print(result[0])\n"
   ]
  },
  {
   "cell_type": "code",
   "execution_count": 1,
   "metadata": {},
   "outputs": [],
   "source": [
    "import os\n",
    "import numpy as np\n",
    "import time\n",
    "import sys\n",
    "\n",
    "from neurips23.filter.base import BaseFilterANN\n",
    "from benchmark.datasets import DATASETS\n",
    "import pgvector.psycopg\n",
    "import pgvector.asyncpg\n",
    "import psycopg\n",
    "from pprint import pprint\n",
    "from dotenv import load_dotenv"
   ]
  },
  {
   "cell_type": "code",
   "execution_count": 3,
   "metadata": {},
   "outputs": [],
   "source": [
    "socket_dir = \"/var/run/postgresql\"\n",
    "query = \"SELECT id FROM items LIMIT  %s\"\n",
    "conn = psycopg.connect(user=\"ann\", password=\"ann\", dbname=\"ann\", autocommit=True, host=socket_dir)\n",
    "pgvector.psycopg.register_vector(conn)\n",
    "cur = conn.cursor()"
   ]
  },
  {
   "cell_type": "code",
   "execution_count": 17,
   "metadata": {},
   "outputs": [
    {
     "ename": "UndefinedFunction",
     "evalue": "operator does not exist: vector <-> smallint[]\nLINE 1: ...e ARRAY[$1]::integer[] <@ tags ORDER BY embedding <-> $2 LIM...\n                                                             ^\nHINT:  No operator matches the given name and argument types. You might need to add explicit type casts.",
     "output_type": "error",
     "traceback": [
      "\u001b[0;31m---------------------------------------------------------------------------\u001b[0m",
      "\u001b[0;31mUndefinedFunction\u001b[0m                         Traceback (most recent call last)",
      "Cell \u001b[0;32mIn[17], line 4\u001b[0m\n\u001b[1;32m      2\u001b[0m k \u001b[38;5;241m=\u001b[39m \u001b[38;5;241m5\u001b[39m\n\u001b[1;32m      3\u001b[0m vec \u001b[38;5;241m=\u001b[39m [\u001b[38;5;241m155\u001b[39m, \u001b[38;5;241m73\u001b[39m, \u001b[38;5;241m118\u001b[39m, \u001b[38;5;241m142\u001b[39m, \u001b[38;5;241m133\u001b[39m, \u001b[38;5;241m123\u001b[39m, \u001b[38;5;241m147\u001b[39m, \u001b[38;5;241m76\u001b[39m, \u001b[38;5;241m154\u001b[39m, \u001b[38;5;241m122\u001b[39m, \u001b[38;5;241m143\u001b[39m, \u001b[38;5;241m107\u001b[39m, \u001b[38;5;241m127\u001b[39m, \u001b[38;5;241m130\u001b[39m, \u001b[38;5;241m95\u001b[39m, \u001b[38;5;241m116\u001b[39m, \u001b[38;5;241m115\u001b[39m, \u001b[38;5;241m129\u001b[39m, \u001b[38;5;241m90\u001b[39m, \u001b[38;5;241m82\u001b[39m, \u001b[38;5;241m179\u001b[39m, \u001b[38;5;241m112\u001b[39m, \u001b[38;5;241m101\u001b[39m, \u001b[38;5;241m126\u001b[39m, \u001b[38;5;241m146\u001b[39m, \u001b[38;5;241m126\u001b[39m, \u001b[38;5;241m152\u001b[39m, \u001b[38;5;241m98\u001b[39m, \u001b[38;5;241m131\u001b[39m, \u001b[38;5;241m152\u001b[39m, \u001b[38;5;241m118\u001b[39m, \u001b[38;5;241m119\u001b[39m, \u001b[38;5;241m103\u001b[39m, \u001b[38;5;241m130\u001b[39m, \u001b[38;5;241m124\u001b[39m, \u001b[38;5;241m103\u001b[39m, \u001b[38;5;241m107\u001b[39m, \u001b[38;5;241m137\u001b[39m, \u001b[38;5;241m108\u001b[39m, \u001b[38;5;241m120\u001b[39m, \u001b[38;5;241m86\u001b[39m, \u001b[38;5;241m124\u001b[39m, \u001b[38;5;241m130\u001b[39m, \u001b[38;5;241m76\u001b[39m, \u001b[38;5;241m112\u001b[39m, \u001b[38;5;241m99\u001b[39m, \u001b[38;5;241m142\u001b[39m, \u001b[38;5;241m106\u001b[39m, \u001b[38;5;241m145\u001b[39m, \u001b[38;5;241m119\u001b[39m, \u001b[38;5;241m119\u001b[39m, \u001b[38;5;241m123\u001b[39m, \u001b[38;5;241m103\u001b[39m, \u001b[38;5;241m124\u001b[39m, \u001b[38;5;241m178\u001b[39m, \u001b[38;5;241m84\u001b[39m, \u001b[38;5;241m159\u001b[39m, \u001b[38;5;241m107\u001b[39m, \u001b[38;5;241m109\u001b[39m, \u001b[38;5;241m94\u001b[39m, \u001b[38;5;241m154\u001b[39m, \u001b[38;5;241m115\u001b[39m, \u001b[38;5;241m135\u001b[39m, \u001b[38;5;241m122\u001b[39m, \u001b[38;5;241m108\u001b[39m, \u001b[38;5;241m144\u001b[39m, \u001b[38;5;241m136\u001b[39m, \u001b[38;5;241m134\u001b[39m, \u001b[38;5;241m113\u001b[39m, \u001b[38;5;241m125\u001b[39m, \u001b[38;5;241m159\u001b[39m, \u001b[38;5;241m152\u001b[39m, \u001b[38;5;241m163\u001b[39m, \u001b[38;5;241m138\u001b[39m, \u001b[38;5;241m92\u001b[39m, \u001b[38;5;241m96\u001b[39m, \u001b[38;5;241m141\u001b[39m, \u001b[38;5;241m166\u001b[39m, \u001b[38;5;241m127\u001b[39m, \u001b[38;5;241m119\u001b[39m, \u001b[38;5;241m117\u001b[39m, \u001b[38;5;241m153\u001b[39m, \u001b[38;5;241m116\u001b[39m, \u001b[38;5;241m147\u001b[39m, \u001b[38;5;241m124\u001b[39m, \u001b[38;5;241m122\u001b[39m, \u001b[38;5;241m106\u001b[39m, \u001b[38;5;241m152\u001b[39m, \u001b[38;5;241m119\u001b[39m, \u001b[38;5;241m132\u001b[39m, \u001b[38;5;241m99\u001b[39m, \u001b[38;5;241m153\u001b[39m, \u001b[38;5;241m132\u001b[39m, \u001b[38;5;241m134\u001b[39m, \u001b[38;5;241m93\u001b[39m, \u001b[38;5;241m149\u001b[39m, \u001b[38;5;241m147\u001b[39m, \u001b[38;5;241m104\u001b[39m, \u001b[38;5;241m149\u001b[39m, \u001b[38;5;241m154\u001b[39m, \u001b[38;5;241m100\u001b[39m, \u001b[38;5;241m164\u001b[39m, \u001b[38;5;241m118\u001b[39m, \u001b[38;5;241m107\u001b[39m, \u001b[38;5;241m88\u001b[39m, \u001b[38;5;241m144\u001b[39m, \u001b[38;5;241m116\u001b[39m, \u001b[38;5;241m195\u001b[39m, \u001b[38;5;241m130\u001b[39m, \u001b[38;5;241m94\u001b[39m, \u001b[38;5;241m125\u001b[39m, \u001b[38;5;241m126\u001b[39m, \u001b[38;5;241m105\u001b[39m, \u001b[38;5;241m115\u001b[39m, \u001b[38;5;241m123\u001b[39m, \u001b[38;5;241m132\u001b[39m, \u001b[38;5;241m157\u001b[39m, \u001b[38;5;241m166\u001b[39m, \u001b[38;5;241m119\u001b[39m, \u001b[38;5;241m173\u001b[39m, \u001b[38;5;241m134\u001b[39m, \u001b[38;5;241m109\u001b[39m, \u001b[38;5;241m99\u001b[39m, \u001b[38;5;241m107\u001b[39m, \u001b[38;5;241m130\u001b[39m, \u001b[38;5;241m153\u001b[39m, \u001b[38;5;241m174\u001b[39m, \u001b[38;5;241m145\u001b[39m, \u001b[38;5;241m147\u001b[39m, \u001b[38;5;241m102\u001b[39m, \u001b[38;5;241m126\u001b[39m, \u001b[38;5;241m132\u001b[39m, \u001b[38;5;241m125\u001b[39m, \u001b[38;5;241m110\u001b[39m, \u001b[38;5;241m98\u001b[39m, \u001b[38;5;241m155\u001b[39m, \u001b[38;5;241m146\u001b[39m, \u001b[38;5;241m121\u001b[39m, \u001b[38;5;241m133\u001b[39m, \u001b[38;5;241m140\u001b[39m, \u001b[38;5;241m131\u001b[39m, \u001b[38;5;241m110\u001b[39m, \u001b[38;5;241m151\u001b[39m, \u001b[38;5;241m100\u001b[39m, \u001b[38;5;241m204\u001b[39m, \u001b[38;5;241m146\u001b[39m, \u001b[38;5;241m133\u001b[39m, \u001b[38;5;241m102\u001b[39m, \u001b[38;5;241m134\u001b[39m, \u001b[38;5;241m141\u001b[39m, \u001b[38;5;241m150\u001b[39m, \u001b[38;5;241m165\u001b[39m, \u001b[38;5;241m114\u001b[39m, \u001b[38;5;241m103\u001b[39m, \u001b[38;5;241m146\u001b[39m, \u001b[38;5;241m77\u001b[39m, \u001b[38;5;241m112\u001b[39m, \u001b[38;5;241m127\u001b[39m, \u001b[38;5;241m132\u001b[39m, \u001b[38;5;241m94\u001b[39m, \u001b[38;5;241m81\u001b[39m, \u001b[38;5;241m163\u001b[39m, \u001b[38;5;241m146\u001b[39m, \u001b[38;5;241m146\u001b[39m, \u001b[38;5;241m116\u001b[39m, \u001b[38;5;241m103\u001b[39m, \u001b[38;5;241m130\u001b[39m, \u001b[38;5;241m145\u001b[39m, \u001b[38;5;241m190\u001b[39m, \u001b[38;5;241m175\u001b[39m, \u001b[38;5;241m150\u001b[39m, \u001b[38;5;241m68\u001b[39m, \u001b[38;5;241m133\u001b[39m, \u001b[38;5;241m103\u001b[39m, \u001b[38;5;241m106\u001b[39m, \u001b[38;5;241m129\u001b[39m, \u001b[38;5;241m150\u001b[39m, \u001b[38;5;241m71\u001b[39m, \u001b[38;5;241m134\u001b[39m, \u001b[38;5;241m123\u001b[39m, \u001b[38;5;241m113\u001b[39m, \u001b[38;5;241m123\u001b[39m, \u001b[38;5;241m139\u001b[39m, \u001b[38;5;241m151\u001b[39m, \u001b[38;5;241m135\u001b[39m, \u001b[38;5;241m144\u001b[39m, \u001b[38;5;241m140\u001b[39m, \u001b[38;5;241m139\u001b[39m, \u001b[38;5;241m148\u001b[39m, \u001b[38;5;241m150\u001b[39m, \u001b[38;5;241m121\u001b[39m, \u001b[38;5;241m130\u001b[39m]\n\u001b[0;32m----> 4\u001b[0m \u001b[43mcur\u001b[49m\u001b[38;5;241;43m.\u001b[39;49m\u001b[43mexecute\u001b[49m\u001b[43m(\u001b[49m\u001b[43mquery\u001b[49m\u001b[43m,\u001b[49m\u001b[43m \u001b[49m\u001b[43m(\u001b[49m\u001b[43m[\u001b[49m\u001b[38;5;241;43m28\u001b[39;49m\u001b[43m]\u001b[49m\u001b[43m,\u001b[49m\u001b[43mvec\u001b[49m\u001b[43m,\u001b[49m\u001b[43mk\u001b[49m\u001b[43m)\u001b[49m\u001b[43m \u001b[49m\u001b[43m,\u001b[49m\u001b[43mbinary\u001b[49m\u001b[38;5;241;43m=\u001b[39;49m\u001b[38;5;28;43;01mTrue\u001b[39;49;00m\u001b[43m,\u001b[49m\u001b[43m \u001b[49m\u001b[43mprepare\u001b[49m\u001b[38;5;241;43m=\u001b[39;49m\u001b[38;5;28;43;01mTrue\u001b[39;49;00m\u001b[43m)\u001b[49m\n\u001b[1;32m      5\u001b[0m result \u001b[38;5;241m=\u001b[39m [\u001b[38;5;28mid\u001b[39m \u001b[38;5;28;01mfor\u001b[39;00m \u001b[38;5;28mid\u001b[39m, \u001b[38;5;129;01min\u001b[39;00m cur\u001b[38;5;241m.\u001b[39mfetchall()]\n\u001b[1;32m      6\u001b[0m \u001b[38;5;28mprint\u001b[39m(result)\n",
      "File \u001b[0;32m~/miniconda3/envs/ann/lib/python3.10/site-packages/psycopg/cursor.py:732\u001b[0m, in \u001b[0;36mCursor.execute\u001b[0;34m(self, query, params, prepare, binary)\u001b[0m\n\u001b[1;32m    728\u001b[0m         \u001b[38;5;28mself\u001b[39m\u001b[38;5;241m.\u001b[39m_conn\u001b[38;5;241m.\u001b[39mwait(\n\u001b[1;32m    729\u001b[0m             \u001b[38;5;28mself\u001b[39m\u001b[38;5;241m.\u001b[39m_execute_gen(query, params, prepare\u001b[38;5;241m=\u001b[39mprepare, binary\u001b[38;5;241m=\u001b[39mbinary)\n\u001b[1;32m    730\u001b[0m         )\n\u001b[1;32m    731\u001b[0m \u001b[38;5;28;01mexcept\u001b[39;00m e\u001b[38;5;241m.\u001b[39m_NO_TRACEBACK \u001b[38;5;28;01mas\u001b[39;00m ex:\n\u001b[0;32m--> 732\u001b[0m     \u001b[38;5;28;01mraise\u001b[39;00m ex\u001b[38;5;241m.\u001b[39mwith_traceback(\u001b[38;5;28;01mNone\u001b[39;00m)\n\u001b[1;32m    733\u001b[0m \u001b[38;5;28;01mreturn\u001b[39;00m \u001b[38;5;28mself\u001b[39m\n",
      "\u001b[0;31mUndefinedFunction\u001b[0m: operator does not exist: vector <-> smallint[]\nLINE 1: ...e ARRAY[$1]::integer[] <@ tags ORDER BY embedding <-> $2 LIM...\n                                                             ^\nHINT:  No operator matches the given name and argument types. You might need to add explicit type casts."
     ]
    }
   ],
   "source": [
    "query = \"SELECT id FROM items where ARRAY[%s]::integer[] <@ tags ORDER BY embedding <-> %s LIMIT %s\"\n",
    "k = 5\n",
    "vec = [155, 73, 118, 142, 133, 123, 147, 76, 154, 122, 143, 107, 127, 130, 95, 116, 115, 129, 90, 82, 179, 112, 101, 126, 146, 126, 152, 98, 131, 152, 118, 119, 103, 130, 124, 103, 107, 137, 108, 120, 86, 124, 130, 76, 112, 99, 142, 106, 145, 119, 119, 123, 103, 124, 178, 84, 159, 107, 109, 94, 154, 115, 135, 122, 108, 144, 136, 134, 113, 125, 159, 152, 163, 138, 92, 96, 141, 166, 127, 119, 117, 153, 116, 147, 124, 122, 106, 152, 119, 132, 99, 153, 132, 134, 93, 149, 147, 104, 149, 154, 100, 164, 118, 107, 88, 144, 116, 195, 130, 94, 125, 126, 105, 115, 123, 132, 157, 166, 119, 173, 134, 109, 99, 107, 130, 153, 174, 145, 147, 102, 126, 132, 125, 110, 98, 155, 146, 121, 133, 140, 131, 110, 151, 100, 204, 146, 133, 102, 134, 141, 150, 165, 114, 103, 146, 77, 112, 127, 132, 94, 81, 163, 146, 146, 116, 103, 130, 145, 190, 175, 150, 68, 133, 103, 106, 129, 150, 71, 134, 123, 113, 123, 139, 151, 135, 144, 140, 139, 148, 150, 121, 130]\n",
    "cur.execute(query, ([28],str(vec),k) ,binary=True, prepare=True)\n",
    "result = [id for id, in cur.fetchall()]\n",
    "print(result)"
   ]
  }
 ],
 "metadata": {
  "kernelspec": {
   "display_name": "bigann",
   "language": "python",
   "name": "python3"
  },
  "language_info": {
   "codemirror_mode": {
    "name": "ipython",
    "version": 3
   },
   "file_extension": ".py",
   "mimetype": "text/x-python",
   "name": "python",
   "nbconvert_exporter": "python",
   "pygments_lexer": "ipython3",
   "version": "3.10.13"
  }
 },
 "nbformat": 4,
 "nbformat_minor": 2
}
